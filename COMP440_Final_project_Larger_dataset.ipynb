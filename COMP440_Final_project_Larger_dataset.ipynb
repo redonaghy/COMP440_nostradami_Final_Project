{
 "cells": [
  {
   "cell_type": "markdown",
   "metadata": {
    "id": "HG_KpSM1FlQv"
   },
   "source": [
    "**What dataset are we working with?**\n",
    "\n",
    "https://www.kaggle.com/datasets/mathurinache/citation-network-dataset/data?select=dblp.v12.json\n",
    "\n",
    "How was the dataset collected?\n",
    "\n",
    "For what purpose was the dataset collected?"
   ]
  },
  {
   "cell_type": "markdown",
   "metadata": {
    "id": "uHFjGY8_RCko"
   },
   "source": [
    "To grab our dataset, we need to set up our env to with the kaggle api."
   ]
  },
  {
   "cell_type": "code",
   "execution_count": 1,
   "metadata": {
    "colab": {
     "base_uri": "https://localhost:8080/"
    },
    "executionInfo": {
     "elapsed": 21733,
     "status": "ok",
     "timestamp": 1712679959830,
     "user": {
      "displayName": "Rory Donaghy",
      "userId": "01247795453713104141"
     },
     "user_tz": 0
    },
    "id": "4F92P0z_FYdk",
    "outputId": "496e5e57-b689-4b45-ac65-59edac66acb4"
   },
   "outputs": [
    {
     "name": "stdout",
     "output_type": "stream",
     "text": [
      "Mounted at /content/drive/\n"
     ]
    }
   ],
   "source": [
    "from google.colab import drive\n",
    "drive.mount('/content/drive/', force_remount=True)\n",
    "# Ensure the .kaggle directory exists\n",
    "!mkdir -p ~/.kaggle\n",
    "\n",
    "# Copy the kaggle_api.json from Google Drive to the .kaggle directory and rename it to kaggle.json\n",
    "!cp \"/content/drive/Shareddrives/COMP 440 S23: Nostradami/kaggle.json\" ~/.kaggle/kaggle.json\n",
    "\n",
    "# Set the permissions of the kaggle.json file\n",
    "!chmod 600 ~/.kaggle/kaggle.json\n",
    "\n",
    "\n"
   ]
  },
  {
   "cell_type": "code",
   "execution_count": 2,
   "metadata": {
    "colab": {
     "base_uri": "https://localhost:8080/"
    },
    "executionInfo": {
     "elapsed": 30800,
     "status": "ok",
     "timestamp": 1712680001431,
     "user": {
      "displayName": "Rory Donaghy",
      "userId": "01247795453713104141"
     },
     "user_tz": 0
    },
    "id": "p0gh175DjCGL",
    "outputId": "6960fc22-589d-4920-b9ee-f5016661604d"
   },
   "outputs": [
    {
     "name": "stdout",
     "output_type": "stream",
     "text": [
      "Downloading citation-network-dataset.zip to /content\n",
      " 99% 4.17G/4.19G [00:29<00:00, 235MB/s]\n",
      "100% 4.19G/4.19G [00:29<00:00, 151MB/s]\n"
     ]
    }
   ],
   "source": [
    "!kaggle datasets download --force -d mathurinache/citation-network-dataset"
   ]
  },
  {
   "cell_type": "code",
   "execution_count": 3,
   "metadata": {
    "colab": {
     "base_uri": "https://localhost:8080/"
    },
    "executionInfo": {
     "elapsed": 9067,
     "status": "ok",
     "timestamp": 1712680012798,
     "user": {
      "displayName": "Rory Donaghy",
      "userId": "01247795453713104141"
     },
     "user_tz": 0
    },
    "id": "SOPQSs6dnxO9",
    "outputId": "37922769-1ef0-4ca8-ecc3-2d413113c029"
   },
   "outputs": [
    {
     "name": "stdout",
     "output_type": "stream",
     "text": [
      "Collecting ijson\n",
      "  Downloading ijson-3.2.3-cp310-cp310-manylinux_2_17_x86_64.manylinux2014_x86_64.whl (111 kB)\n",
      "\u001b[?25l     \u001b[90m━━━━━━━━━━━━━━━━━━━━━━━━━━━━━━━━━━━━━━━━\u001b[0m \u001b[32m0.0/111.8 kB\u001b[0m \u001b[31m?\u001b[0m eta \u001b[36m-:--:--\u001b[0m\r",
      "\u001b[2K     \u001b[91m━━━━━━━━━━━━━━━━━━━━━━━━━\u001b[0m\u001b[91m╸\u001b[0m\u001b[90m━━━━━━━━━━━━━━\u001b[0m \u001b[32m71.7/111.8 kB\u001b[0m \u001b[31m1.9 MB/s\u001b[0m eta \u001b[36m0:00:01\u001b[0m\r",
      "\u001b[2K     \u001b[90m━━━━━━━━━━━━━━━━━━━━━━━━━━━━━━━━━━━━━━━━\u001b[0m \u001b[32m111.8/111.8 kB\u001b[0m \u001b[31m2.2 MB/s\u001b[0m eta \u001b[36m0:00:00\u001b[0m\n",
      "\u001b[?25hInstalling collected packages: ijson\n",
      "Successfully installed ijson-3.2.3\n"
     ]
    }
   ],
   "source": [
    "!pip install ijson"
   ]
  },
  {
   "cell_type": "code",
   "execution_count": null,
   "metadata": {
    "id": "LaGrHKZHe2Zp"
   },
   "outputs": [],
   "source": [
    "# import zipfile\n",
    "# import ijson\n",
    "\n",
    "# # Specify the path to the ZIP file you've downloaded\n",
    "# zip_file_path = '/content/citation-network-dataset.zip'\n",
    "\n",
    "# # Specify the filename of the JSON file within the ZIP archive\n",
    "# # Adjust this filename based on the actual name of the JSON file inside the ZIP\n",
    "# json_file_name = 'dblp.v12.json'\n",
    "\n",
    "# # Use the zipfile library to open the ZIP file\n",
    "# with zipfile.ZipFile(zip_file_path, 'r') as z:\n",
    "#     # Extract the specific JSON file from the ZIP into memory\n",
    "#     with z.open(json_file_name) as json_file:\n",
    "#         # Now, json_file acts like an open file object for the JSON file\n",
    "#         # You can use ijson to parse the JSON file incrementally here\n",
    "\n",
    "#         # Example: Iterate over items in the JSON file\n",
    "#         objects = ijson.items(json_file, 'item')\n",
    "#         for obj in objects:\n",
    "#             #print(obj)\n"
   ]
  },
  {
   "cell_type": "code",
   "execution_count": 60,
   "metadata": {
    "colab": {
     "base_uri": "https://localhost:8080/"
    },
    "executionInfo": {
     "elapsed": 133,
     "status": "ok",
     "timestamp": 1712683382215,
     "user": {
      "displayName": "Rory Donaghy",
      "userId": "01247795453713104141"
     },
     "user_tz": 0
    },
    "id": "A3sLWpmGjyF_",
    "outputId": "ed7148fd-3115-40ee-9328-c7670064a83a"
   },
   "outputs": [
    {
     "name": "stdout",
     "output_type": "stream",
     "text": [
      "['Telecommunications network, Computer science, Mind map, Human–computer interaction, Multimedia, Empirical research, Comprehension, Communications protocol']\n",
      "<class 'pandas.core.frame.DataFrame'>\n",
      "RangeIndex: 1 entries, 0 to 0\n",
      "Data columns (total 8 columns):\n",
      " #   Column          Non-Null Count  Dtype \n",
      "---  ------          --------------  ----- \n",
      " 0   ID              1 non-null      int64 \n",
      " 1   Title           1 non-null      object\n",
      " 2   Year            1 non-null      int64 \n",
      " 3   Citations       1 non-null      int64 \n",
      " 4   Document Type   1 non-null      object\n",
      " 5   Authors         1 non-null      object\n",
      " 6   Venue           1 non-null      object\n",
      " 7   Field of Study  1 non-null      object\n",
      "dtypes: int64(3), object(5)\n",
      "memory usage: 192.0+ bytes\n",
      "None\n",
      "     ID                                              Title  Year  Citations  \\\n",
      "0  1091  Preliminary Design of a Network Protocol Learn...  2013          1   \n",
      "\n",
      "  Document Type                                            Authors  \\\n",
      "0    Conference  Makoto Satoh, Ryo Muramatsu, Mizue Kayama, Kaz...   \n",
      "\n",
      "                                               Venue  \\\n",
      "0  International Conference on Human-Computer Int...   \n",
      "\n",
      "                                      Field of Study  \n",
      "0  Telecommunications network, Computer science, ...  \n"
     ]
    }
   ],
   "source": [
    "import pandas as pd\n",
    "import zipfile\n",
    "import ijson\n",
    "import os\n",
    "\n",
    "# Initialize lists to store the data\n",
    "ids, titles, years, n_citations, doc_types, authors_list, venues, fos = [], [], [], [], [], [], [], []\n",
    "\n",
    "# Define a function to process a single JSON object\n",
    "def process_json_obj(obj):\n",
    "    ids.append(obj.get('id'))\n",
    "    titles.append(obj.get('title'))\n",
    "    years.append(obj.get('year'))\n",
    "    n_citations.append(obj.get('n_citation'))\n",
    "    doc_types.append(obj.get('doc_type'))\n",
    "    authors_names = \", \".join([author.get('name') for author in obj.get('authors', [])])\n",
    "    authors_list.append(authors_names)\n",
    "    venues.append(obj.get('venue', {}).get('raw', ''))\n",
    "    tmp = []\n",
    "    for field in obj.get(\"fos\", []):\n",
    "        tmp.append(field.get(\"name\"))\n",
    "    fos.append(', '.join(map(str, tmp)))\n",
    "\n",
    "\n",
    "# Specify the maximum number of objects to process\n",
    "MAX_OBJECTS = 1\n",
    "\n",
    "# Open the ZIP file and process the JSON file within\n",
    "with zipfile.ZipFile('/content/citation-network-dataset.zip', 'r') as z:\n",
    "    with z.open('dblp.v12.json') as json_file:  # Adjust the path if necessary\n",
    "        objects = ijson.items(json_file, 'item')\n",
    "        for i, obj in enumerate(objects):\n",
    "            if i >= MAX_OBJECTS:\n",
    "                break\n",
    "            process_json_obj(obj)\n",
    "            print(fos)\n",
    "\n",
    "# Create a DataFrame from the collected data\n",
    "citations_df = pd.DataFrame({\n",
    "    'ID': ids,\n",
    "    'Title': titles,\n",
    "    'Year': years,\n",
    "    'Citations': n_citations,\n",
    "    'Document Type': doc_types,\n",
    "    'Authors': authors_list,\n",
    "    'Venue': venues,\n",
    "    'Field of Study': fos\n",
    "})\n",
    "\n",
    "with open(\"data.csv\", \"x\") as csv:\n",
    "  csv.write(citations_df.to_csv())\n",
    "\n",
    "# Display basic information about the DataFrame to ensure it's loaded correctly\n",
    "print(citations_df.info())\n",
    "print(citations_df.head())"
   ]
  },
  {
   "cell_type": "code",
   "execution_count": null,
   "metadata": {
    "id": "bM1Ny3K_17q8"
   },
   "outputs": [],
   "source": [
    "citations_df.head()"
   ]
  },
  {
   "cell_type": "code",
   "execution_count": null,
   "metadata": {
    "colab": {
     "base_uri": "https://localhost:8080/"
    },
    "executionInfo": {
     "elapsed": 202,
     "status": "ok",
     "timestamp": 1712635592248,
     "user": {
      "displayName": "Eddie Chen",
      "userId": "17886336257218875792"
     },
     "user_tz": 300
    },
    "id": "iCsTbU262Etg",
    "outputId": "b3bf988e-ef11-4c54-a076-d3719e7ccd29"
   },
   "outputs": [
    {
     "data": {
      "text/plain": [
       "Index(['ID', 'Title', 'Year', 'Citations', 'Document Type', 'Authors',\n",
       "       'Venue'],\n",
       "      dtype='object')"
      ]
     },
     "execution_count": 18,
     "metadata": {},
     "output_type": "execute_result"
    }
   ],
   "source": [
    "citations_df.columns"
   ]
  },
  {
   "cell_type": "code",
   "execution_count": null,
   "metadata": {
    "id": "TC60PhK33bNe"
   },
   "outputs": [],
   "source": [
    "# Trim out the rows with n_citations = 0\n",
    "print(citations_df.shape)"
   ]
  },
  {
   "cell_type": "markdown",
   "metadata": {
    "id": "ZW_4P-UvMKKF"
   },
   "source": [
    "There are 4894081 rows of data."
   ]
  },
  {
   "cell_type": "code",
   "execution_count": null,
   "metadata": {
    "id": "3uL_QtDmCVYV"
   },
   "outputs": [],
   "source": [
    "# These columns are Series data types\n",
    "# print(citations_df.Year.min())\n",
    "# print(citations_df.Year.max())\n",
    "\n",
    "# Look for papers whose year isn't 0\n",
    "years_citations_df = citations_df[citations_df[\"Year\"] != 0]\n",
    "print(years_citations_df.shape)\n",
    "print(years_citations_df.Year.min())\n",
    "print(years_citations_df.Year.max())"
   ]
  },
  {
   "cell_type": "markdown",
   "metadata": {
    "id": "lKFsXZ1qF9ze"
   },
   "source": [
    "There are 9 papers whose Year is 0."
   ]
  },
  {
   "cell_type": "code",
   "execution_count": null,
   "metadata": {
    "id": "Qc0Lo0y4JkUi"
   },
   "outputs": [],
   "source": [
    "# Papers written between 1800 (inclusive) and 1899 (inclusive)\n",
    "print(years_citations_df[(years_citations_df[\"Year\"] >= 1800) & (years_citations_df[\"Year\"] < 1900)])"
   ]
  },
  {
   "cell_type": "code",
   "execution_count": null,
   "metadata": {
    "id": "rmclORhlLD-P"
   },
   "outputs": [],
   "source": [
    "# Papers written between 1900 (inclusive) and 1999 (inclusive)\n",
    "print(years_citations_df[(years_citations_df[\"Year\"] >= 1900) & (years_citations_df[\"Year\"] < 1999)])"
   ]
  },
  {
   "cell_type": "code",
   "execution_count": null,
   "metadata": {
    "id": "K0DWl79hLSv_"
   },
   "outputs": [],
   "source": [
    "# Papers written past 2000 (inclusive)\n",
    "print(years_citations_df[(years_citations_df[\"Year\"] >= 2000)])"
   ]
  },
  {
   "cell_type": "code",
   "execution_count": null,
   "metadata": {
    "colab": {
     "base_uri": "https://localhost:8080/"
    },
    "executionInfo": {
     "elapsed": 120,
     "status": "ok",
     "timestamp": 1712638594090,
     "user": {
      "displayName": "Eddie Chen",
      "userId": "17886336257218875792"
     },
     "user_tz": 300
    },
    "id": "gqagsnkpNWmG",
    "outputId": "3e4cdda3-0390-467b-bfc1-ec80b5aff806"
   },
   "outputs": [
    {
     "name": "stdout",
     "output_type": "stream",
     "text": [
      "0    False\n",
      "1    False\n",
      "2     True\n",
      "3    False\n",
      "4    False\n",
      "Name: Salary, dtype: bool\n",
      "1\n"
     ]
    }
   ],
   "source": [
    "# testingData = {\n",
    "#     'Name': ['John', 'Doe', 'Alice', 'Bob', 'Chris'],\n",
    "#     'Age': [25, 30, 22, 28, 35],\n",
    "#     'Salary': [50000, 60000, None, 75000, 90000],\n",
    "#     'Experience': [2, 5, 1, None, 10]\n",
    "# }\n",
    "\n",
    "# testing_df = pd.DataFrame(testingData)\n",
    "\n",
    "# print(testing_df[\"Salary\"].isna())\n",
    "# print(testing_df[\"Salary\"].isna().sum())"
   ]
  },
  {
   "cell_type": "code",
   "execution_count": null,
   "metadata": {
    "colab": {
     "base_uri": "https://localhost:8080/"
    },
    "executionInfo": {
     "elapsed": 13719,
     "status": "ok",
     "timestamp": 1712638784951,
     "user": {
      "displayName": "Eddie Chen",
      "userId": "17886336257218875792"
     },
     "user_tz": 300
    },
    "id": "GeZSJvuUL_5C",
    "outputId": "bebf4c6e-acc4-4500-f3d2-e399cf7bb1b3"
   },
   "outputs": [
    {
     "name": "stdout",
     "output_type": "stream",
     "text": [
      "0\n",
      "0\n",
      "4696970\n",
      "There are 197111 papers that share the same title\n"
     ]
    }
   ],
   "source": [
    "print(citations_df[\"ID\"].isna().sum())\n",
    "print(citations_df[\"Title\"].isna().sum())\n",
    "\n",
    "print(len(citations_df.Title.unique()))\n",
    "print(\"There are \" + str(citations_df.shape[0] - len(citations_df.Title.unique())) + \" papers that share the same title\" )"
   ]
  },
  {
   "cell_type": "markdown",
   "metadata": {
    "id": "ddkfkZvuOA-y"
   },
   "source": [
    "Of the 4894081 papers in the dataset, 197111 papers share the same title."
   ]
  },
  {
   "cell_type": "code",
   "execution_count": null,
   "metadata": {
    "colab": {
     "base_uri": "https://localhost:8080/"
    },
    "executionInfo": {
     "elapsed": 919,
     "status": "ok",
     "timestamp": 1712639760886,
     "user": {
      "displayName": "Eddie Chen",
      "userId": "17886336257218875792"
     },
     "user_tz": 300
    },
    "id": "4_1Ce_GHRlD1",
    "outputId": "2c3092eb-f8b3-4b6d-f66c-326a291851c3"
   },
   "outputs": [
    {
     "name": "stdout",
     "output_type": "stream",
     "text": [
      "0\n",
      "48327\n",
      "                 ID                                     Title  Year  \\\n",
      "4696136  2041404167  The Mathematical Theory of Communication  1949   \n",
      "\n",
      "         Citations Document Type        Authors Venue  \n",
      "4696136      48327          Book  C. E. Shannon        \n",
      "                ID                                              Title  Year  \\\n",
      "4             5411  COMPARING GNG3D AND QUADRIC ERROR METRICS METH...  2009   \n",
      "6             6522  Improved Secret Image Sharing Method By Encodi...  2011   \n",
      "7             6762  A Self-Stabilizing Algorithm for Finding the C...  2003   \n",
      "8             8373  Formal agent-oriented ubiquitous computing: a ...  2012   \n",
      "9             8763  Fur Visualisation for Computer Game Engines an...  2014   \n",
      "...            ...                                                ...   ...   \n",
      "4894070  999760546  Trust, Privacy and Security in Digital Busines...  2011   \n",
      "4894075  998513720       Communication: Words and Conceptual Systems.  2015   \n",
      "4894077   99884553   Blind Equalization for underwater communications  2014   \n",
      "4894079    9990887                    Knowledge Patterns in Databases  2011   \n",
      "4894080   99956490  Bemerkung zu Gurevich's Arbeit über das Entsch...  1978   \n",
      "\n",
      "         Citations Document Type  \\\n",
      "4                0    Conference   \n",
      "6                0    Conference   \n",
      "7                0    Conference   \n",
      "8                0    Conference   \n",
      "9                0    Conference   \n",
      "...            ...           ...   \n",
      "4894070          0                 \n",
      "4894075          0    Repository   \n",
      "4894077          0                 \n",
      "4894079          0                 \n",
      "4894080          0       Journal   \n",
      "\n",
      "                                                   Authors  \\\n",
      "4        Rafael Álvarez, Leandro Tortosa, José-Francisc...   \n",
      "6           Güzin Ulutas, Mustafa Ulutas, Vasif V. Nabiyev   \n",
      "7                       Pranay Chaudhuri, Hussein Thompson   \n",
      "8                                           Phan Cong Vinh   \n",
      "9                       Dominik Szajerman, Adam Jurczyński   \n",
      "...                                                    ...   \n",
      "4894070  Steven Furnell, Costas Lambrinoudakis, Günther...   \n",
      "4894075                                            Jian Yu   \n",
      "4894077                        Koen Cornelis Hubertus Blom   \n",
      "4894079                        Rajesh Natarajan, B. Shekar   \n",
      "4894080                                        Egon Börger   \n",
      "\n",
      "                                                     Venue  \n",
      "4        International Conference on Computer Graphics ...  \n",
      "6        International Symposium on Computer and Inform...  \n",
      "7        Parallel and Distributed Processing Techniques...  \n",
      "8        Asian Conference on Intelligent Information an...  \n",
      "9        International Conference on Computer Vision an...  \n",
      "...                                                    ...  \n",
      "4894070                                                     \n",
      "4894075                     arXiv: Artificial Intelligence  \n",
      "4894077                                                     \n",
      "4894079               Encyclopedia of Knowledge Management  \n",
      "4894080                     Archive for Mathematical Logic  \n",
      "\n",
      "[1356051 rows x 7 columns]\n"
     ]
    }
   ],
   "source": [
    "print(citations_df.Citations.min())\n",
    "print(citations_df.Citations.max())\n",
    "\n",
    "print(citations_df[citations_df[\"Citations\"] >= 48327])\n",
    "print(citations_df[citations_df[\"Citations\"] == 0])"
   ]
  }
 ],
 "metadata": {
  "colab": {
   "provenance": [
    {
     "file_id": "1ooexgbmter3jd6lXQwMOw7VGUw6qwM6c",
     "timestamp": 1712257476240
    }
   ]
  },
  "kernelspec": {
   "display_name": "Python 3 (ipykernel)",
   "language": "python",
   "name": "python3"
  },
  "language_info": {
   "codemirror_mode": {
    "name": "ipython",
    "version": 3
   },
   "file_extension": ".py",
   "mimetype": "text/x-python",
   "name": "python",
   "nbconvert_exporter": "python",
   "pygments_lexer": "ipython3",
   "version": "3.11.8"
  }
 },
 "nbformat": 4,
 "nbformat_minor": 4
}
