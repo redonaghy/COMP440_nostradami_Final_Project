{
 "cells": [
  {
   "cell_type": "markdown",
   "metadata": {
    "id": "HG_KpSM1FlQv"
   },
   "source": [
    "**What dataset are we working with?**\n",
    "\n",
    "https://www.kaggle.com/datasets/mathurinache/citation-network-dataset/data?select=dblp.v12.json\n",
    "\n",
    "How was the dataset collected?\n",
    "\n",
    "For what purpose was the dataset collected?"
   ]
  },
  {
   "cell_type": "markdown",
   "metadata": {},
   "source": [
    "## RUN clean_data.py OR GET data.csv FROM GOOGLE DRIVE BEFORE RUNNING THIS NOTEBOOK!"
   ]
  },
  {
   "cell_type": "code",
   "execution_count": 2,
   "metadata": {},
   "outputs": [
    {
     "name": "stdout",
     "output_type": "stream",
     "text": [
      "annotated-types==0.6.0\n",
      "anyio==4.3.0\n",
      "argcomplete==3.1.1\n",
      "argon2-cffi==23.1.0\n",
      "argon2-cffi-bindings==21.2.0\n",
      "asciinema==2.4.0\n",
      "asttokens==2.4.1\n",
      "async-lru==2.0.4\n",
      "attrs==23.2.0\n",
      "autocommand==2.2.2\n",
      "Babel==2.14.0\n",
      "beautifulsoup4==4.12.3\n",
      "bleach==6.1.0\n",
      "btrfsutil==6.8\n",
      "certifi==2024.2.2\n",
      "cffi==1.16.0\n",
      "charset-normalizer==3.3.2\n",
      "click==8.1.7\n",
      "colorama==0.4.6\n",
      "comm==0.2.2\n",
      "cryptography==42.0.5\n",
      "dbus-python==1.3.2\n",
      "decorator==5.1.1\n",
      "defusedxml==0.7.1\n",
      "discid==1.2.0\n",
      "executing==2.0.0\n",
      "fastjsonschema==2.19.1\n",
      "h11==0.14.0\n",
      "httpcore==1.0.2\n",
      "httpx==0.26.0\n",
      "idna==3.6\n",
      "importlib_metadata==5.1.0\n",
      "inflect==7.2.0\n",
      "ipykernel==6.29.4\n",
      "ipython==8.22.2\n",
      "jaraco.context==4.3.0\n",
      "jaraco.functools==4.0.0\n",
      "jaraco.text==3.12.0\n",
      "jedi==0.19.1\n",
      "Jinja2==3.1.3\n",
      "json5==0.9.25\n",
      "jsonschema==4.21.1\n",
      "jsonschema-specifications==2023.12.1\n",
      "jupyter-events==0.10.0\n",
      "jupyter_client==8.6.1\n",
      "jupyter_core==5.7.2\n",
      "jupyter_server==2.14.0\n",
      "jupyterlab==4.1.6\n",
      "jupyterlab_pygments==0.3.0\n",
      "jupyterlab_server==2.26.0\n",
      "markdown-it-py==3.0.0\n",
      "MarkupSafe==2.1.5\n",
      "matplotlib-inline==0.1.6\n",
      "mdurl==0.1.2\n",
      "mistune==3.0.2\n",
      "more-itertools==10.2.0\n",
      "musicbrainzngs==0.7.1\n",
      "mutagen==1.47.0\n",
      "nbclient==0.10.0\n",
      "nbconvert==7.16.3\n",
      "nbformat==5.10.4\n",
      "nest_asyncio==1.6.0\n",
      "notebook==7.1.2\n",
      "notebook_shim==0.2.4\n",
      "ordered-set==4.1.0\n",
      "overrides==7.7.0\n",
      "packaging==23.2\n",
      "pandocfilters==1.5.1\n",
      "parso==0.8.4\n",
      "pexpect==4.9.0\n",
      "platformdirs==4.2.0\n",
      "ply==3.11\n",
      "prometheus_client==0.20.0\n",
      "prompt-toolkit==3.0.43\n",
      "psutil==5.9.8\n",
      "ptyprocess==0.7.0\n",
      "pure-eval==0.2.2\n",
      "pycdio==2.1.1\n",
      "pycparser==2.22\n",
      "pydantic==2.7.0\n",
      "pydantic_core==2.18.1\n",
      "Pygments==2.17.2\n",
      "PyGObject==3.48.1\n",
      "pyrsistent==0.19.3\n",
      "python-dateutil==2.9.0\n",
      "python-json-logger==2.0.7\n",
      "pytz==2024.1\n",
      "PyYAML==6.0.1\n",
      "pyzmq==25.1.2\n",
      "referencing==0.33.0\n",
      "requests==2.31.0\n",
      "rich==13.7.1\n",
      "rpds-py==0.17.1\n",
      "ruamel.yaml==0.18.6\n",
      "ruamel.yaml.clib==0.2.8\n",
      "Send2Trash==1.8.2\n",
      "six==1.16.0\n",
      "smbus==1.1\n",
      "sniffio==1.3.1\n",
      "soupsieve==2.5\n",
      "stack-data==0.6.3\n",
      "TBB==0.2\n",
      "tinycss2==1.2.1\n",
      "tomli==2.0.1\n",
      "tornado==6.3.2\n",
      "traitlets==5.14.2\n",
      "trove-classifiers==2024.3.29\n",
      "typeguard==4.2.1\n",
      "typing_extensions==4.10.0\n",
      "uc-micro-py==1.0.3\n",
      "urllib3==1.26.18\n",
      "validate-pyproject==0.13.post1.dev0+gb752273.d20230520\n",
      "wcwidth==0.2.13\n",
      "webencodings==0.5.1\n",
      "websocket-client==1.7.0\n",
      "whipper==0.10.0\n",
      "zipp==3.17.0\n"
     ]
    }
   ],
   "source": [
    "!pip freeze"
   ]
  },
  {
   "cell_type": "code",
   "execution_count": 1,
   "metadata": {
    "id": "bM1Ny3K_17q8"
   },
   "outputs": [
    {
     "ename": "ModuleNotFoundError",
     "evalue": "No module named 'pandas'",
     "output_type": "error",
     "traceback": [
      "\u001b[0;31m---------------------------------------------------------------------------\u001b[0m",
      "\u001b[0;31mModuleNotFoundError\u001b[0m                       Traceback (most recent call last)",
      "Cell \u001b[0;32mIn[1], line 1\u001b[0m\n\u001b[0;32m----> 1\u001b[0m \u001b[38;5;28;01mimport\u001b[39;00m \u001b[38;5;21;01mpandas\u001b[39;00m \u001b[38;5;28;01mas\u001b[39;00m \u001b[38;5;21;01mpd\u001b[39;00m\n\u001b[1;32m      2\u001b[0m \u001b[38;5;28;01mimport\u001b[39;00m \u001b[38;5;21;01mnumpy\u001b[39;00m \u001b[38;5;28;01mas\u001b[39;00m \u001b[38;5;21;01mnp\u001b[39;00m\n\u001b[1;32m      4\u001b[0m citations_df \u001b[38;5;241m=\u001b[39m pd\u001b[38;5;241m.\u001b[39mread_csv(\u001b[38;5;124m'\u001b[39m\u001b[38;5;124mdata.csv\u001b[39m\u001b[38;5;124m'\u001b[39m)\n",
      "\u001b[0;31mModuleNotFoundError\u001b[0m: No module named 'pandas'"
     ]
    }
   ],
   "source": [
    "import pandas as pd\n",
    "import numpy as np\n",
    "\n",
    "citations_df = pd.read_csv('data.csv')\n",
    "\n",
    "citations_df.head()"
   ]
  },
  {
   "cell_type": "code",
   "execution_count": null,
   "metadata": {
    "colab": {
     "base_uri": "https://localhost:8080/"
    },
    "executionInfo": {
     "elapsed": 202,
     "status": "ok",
     "timestamp": 1712635592248,
     "user": {
      "displayName": "Eddie Chen",
      "userId": "17886336257218875792"
     },
     "user_tz": 300
    },
    "id": "iCsTbU262Etg",
    "outputId": "b3bf988e-ef11-4c54-a076-d3719e7ccd29"
   },
   "outputs": [
    {
     "data": {
      "text/plain": [
       "Index(['ID', 'Title', 'Year', 'Citations', 'Document Type', 'Authors',\n",
       "       'Venue'],\n",
       "      dtype='object')"
      ]
     },
     "execution_count": 18,
     "metadata": {},
     "output_type": "execute_result"
    }
   ],
   "source": [
    "citations_df.columns"
   ]
  },
  {
   "cell_type": "code",
   "execution_count": null,
   "metadata": {
    "id": "TC60PhK33bNe"
   },
   "outputs": [],
   "source": [
    "# Trim out the rows with n_citations = 0\n",
    "print(citations_df.shape)"
   ]
  },
  {
   "cell_type": "markdown",
   "metadata": {
    "id": "ZW_4P-UvMKKF"
   },
   "source": [
    "There are 4894081 rows of data."
   ]
  },
  {
   "cell_type": "code",
   "execution_count": null,
   "metadata": {
    "id": "3uL_QtDmCVYV"
   },
   "outputs": [],
   "source": [
    "# These columns are Series data types\n",
    "# print(citations_df.Year.min())\n",
    "# print(citations_df.Year.max())\n",
    "\n",
    "# Look for papers whose year isn't 0\n",
    "years_citations_df = citations_df[citations_df[\"Year\"] != 0]\n",
    "print(years_citations_df.shape)\n",
    "print(years_citations_df.Year.min())\n",
    "print(years_citations_df.Year.max())"
   ]
  },
  {
   "cell_type": "markdown",
   "metadata": {
    "id": "lKFsXZ1qF9ze"
   },
   "source": [
    "There are 9 papers whose Year is 0."
   ]
  },
  {
   "cell_type": "code",
   "execution_count": null,
   "metadata": {
    "id": "Qc0Lo0y4JkUi"
   },
   "outputs": [],
   "source": [
    "# Papers written between 1800 (inclusive) and 1899 (inclusive)\n",
    "print(years_citations_df[(years_citations_df[\"Year\"] >= 1800) & (years_citations_df[\"Year\"] < 1900)])"
   ]
  },
  {
   "cell_type": "code",
   "execution_count": null,
   "metadata": {
    "id": "rmclORhlLD-P"
   },
   "outputs": [],
   "source": [
    "# Papers written between 1900 (inclusive) and 1999 (inclusive)\n",
    "print(years_citations_df[(years_citations_df[\"Year\"] >= 1900) & (years_citations_df[\"Year\"] < 1999)])"
   ]
  },
  {
   "cell_type": "code",
   "execution_count": null,
   "metadata": {
    "id": "K0DWl79hLSv_"
   },
   "outputs": [],
   "source": [
    "# Papers written past 2000 (inclusive)\n",
    "print(years_citations_df[(years_citations_df[\"Year\"] >= 2000)])"
   ]
  },
  {
   "cell_type": "code",
   "execution_count": null,
   "metadata": {
    "colab": {
     "base_uri": "https://localhost:8080/"
    },
    "executionInfo": {
     "elapsed": 120,
     "status": "ok",
     "timestamp": 1712638594090,
     "user": {
      "displayName": "Eddie Chen",
      "userId": "17886336257218875792"
     },
     "user_tz": 300
    },
    "id": "gqagsnkpNWmG",
    "outputId": "3e4cdda3-0390-467b-bfc1-ec80b5aff806"
   },
   "outputs": [
    {
     "name": "stdout",
     "output_type": "stream",
     "text": [
      "0    False\n",
      "1    False\n",
      "2     True\n",
      "3    False\n",
      "4    False\n",
      "Name: Salary, dtype: bool\n",
      "1\n"
     ]
    }
   ],
   "source": [
    "# testingData = {\n",
    "#     'Name': ['John', 'Doe', 'Alice', 'Bob', 'Chris'],\n",
    "#     'Age': [25, 30, 22, 28, 35],\n",
    "#     'Salary': [50000, 60000, None, 75000, 90000],\n",
    "#     'Experience': [2, 5, 1, None, 10]\n",
    "# }\n",
    "\n",
    "# testing_df = pd.DataFrame(testingData)\n",
    "\n",
    "# print(testing_df[\"Salary\"].isna())\n",
    "# print(testing_df[\"Salary\"].isna().sum())"
   ]
  },
  {
   "cell_type": "code",
   "execution_count": null,
   "metadata": {
    "colab": {
     "base_uri": "https://localhost:8080/"
    },
    "executionInfo": {
     "elapsed": 13719,
     "status": "ok",
     "timestamp": 1712638784951,
     "user": {
      "displayName": "Eddie Chen",
      "userId": "17886336257218875792"
     },
     "user_tz": 300
    },
    "id": "GeZSJvuUL_5C",
    "outputId": "bebf4c6e-acc4-4500-f3d2-e399cf7bb1b3"
   },
   "outputs": [
    {
     "name": "stdout",
     "output_type": "stream",
     "text": [
      "0\n",
      "0\n",
      "4696970\n",
      "There are 197111 papers that share the same title\n"
     ]
    }
   ],
   "source": [
    "print(citations_df[\"ID\"].isna().sum())\n",
    "print(citations_df[\"Title\"].isna().sum())\n",
    "\n",
    "print(len(citations_df.Title.unique()))\n",
    "print(\"There are \" + str(citations_df.shape[0] - len(citations_df.Title.unique())) + \" papers that share the same title\" )"
   ]
  },
  {
   "cell_type": "markdown",
   "metadata": {
    "id": "ddkfkZvuOA-y"
   },
   "source": [
    "Of the 4894081 papers in the dataset, 197111 papers share the same title."
   ]
  },
  {
   "cell_type": "code",
   "execution_count": null,
   "metadata": {
    "colab": {
     "base_uri": "https://localhost:8080/"
    },
    "executionInfo": {
     "elapsed": 919,
     "status": "ok",
     "timestamp": 1712639760886,
     "user": {
      "displayName": "Eddie Chen",
      "userId": "17886336257218875792"
     },
     "user_tz": 300
    },
    "id": "4_1Ce_GHRlD1",
    "outputId": "2c3092eb-f8b3-4b6d-f66c-326a291851c3"
   },
   "outputs": [
    {
     "name": "stdout",
     "output_type": "stream",
     "text": [
      "0\n",
      "48327\n",
      "                 ID                                     Title  Year  \\\n",
      "4696136  2041404167  The Mathematical Theory of Communication  1949   \n",
      "\n",
      "         Citations Document Type        Authors Venue  \n",
      "4696136      48327          Book  C. E. Shannon        \n",
      "                ID                                              Title  Year  \\\n",
      "4             5411  COMPARING GNG3D AND QUADRIC ERROR METRICS METH...  2009   \n",
      "6             6522  Improved Secret Image Sharing Method By Encodi...  2011   \n",
      "7             6762  A Self-Stabilizing Algorithm for Finding the C...  2003   \n",
      "8             8373  Formal agent-oriented ubiquitous computing: a ...  2012   \n",
      "9             8763  Fur Visualisation for Computer Game Engines an...  2014   \n",
      "...            ...                                                ...   ...   \n",
      "4894070  999760546  Trust, Privacy and Security in Digital Busines...  2011   \n",
      "4894075  998513720       Communication: Words and Conceptual Systems.  2015   \n",
      "4894077   99884553   Blind Equalization for underwater communications  2014   \n",
      "4894079    9990887                    Knowledge Patterns in Databases  2011   \n",
      "4894080   99956490  Bemerkung zu Gurevich's Arbeit über das Entsch...  1978   \n",
      "\n",
      "         Citations Document Type  \\\n",
      "4                0    Conference   \n",
      "6                0    Conference   \n",
      "7                0    Conference   \n",
      "8                0    Conference   \n",
      "9                0    Conference   \n",
      "...            ...           ...   \n",
      "4894070          0                 \n",
      "4894075          0    Repository   \n",
      "4894077          0                 \n",
      "4894079          0                 \n",
      "4894080          0       Journal   \n",
      "\n",
      "                                                   Authors  \\\n",
      "4        Rafael Álvarez, Leandro Tortosa, José-Francisc...   \n",
      "6           Güzin Ulutas, Mustafa Ulutas, Vasif V. Nabiyev   \n",
      "7                       Pranay Chaudhuri, Hussein Thompson   \n",
      "8                                           Phan Cong Vinh   \n",
      "9                       Dominik Szajerman, Adam Jurczyński   \n",
      "...                                                    ...   \n",
      "4894070  Steven Furnell, Costas Lambrinoudakis, Günther...   \n",
      "4894075                                            Jian Yu   \n",
      "4894077                        Koen Cornelis Hubertus Blom   \n",
      "4894079                        Rajesh Natarajan, B. Shekar   \n",
      "4894080                                        Egon Börger   \n",
      "\n",
      "                                                     Venue  \n",
      "4        International Conference on Computer Graphics ...  \n",
      "6        International Symposium on Computer and Inform...  \n",
      "7        Parallel and Distributed Processing Techniques...  \n",
      "8        Asian Conference on Intelligent Information an...  \n",
      "9        International Conference on Computer Vision an...  \n",
      "...                                                    ...  \n",
      "4894070                                                     \n",
      "4894075                     arXiv: Artificial Intelligence  \n",
      "4894077                                                     \n",
      "4894079               Encyclopedia of Knowledge Management  \n",
      "4894080                     Archive for Mathematical Logic  \n",
      "\n",
      "[1356051 rows x 7 columns]\n"
     ]
    }
   ],
   "source": [
    "print(citations_df.Citations.min())\n",
    "print(citations_df.Citations.max())\n",
    "\n",
    "print(citations_df[citations_df[\"Citations\"] >= 48327])\n",
    "print(citations_df[citations_df[\"Citations\"] == 0])"
   ]
  }
 ],
 "metadata": {
  "colab": {
   "provenance": [
    {
     "file_id": "1ooexgbmter3jd6lXQwMOw7VGUw6qwM6c",
     "timestamp": 1712257476240
    }
   ]
  },
  "kernelspec": {
   "display_name": "venv",
   "language": "python",
   "name": "venv"
  },
  "language_info": {
   "codemirror_mode": {
    "name": "ipython",
    "version": 3
   },
   "file_extension": ".py",
   "mimetype": "text/x-python",
   "name": "python",
   "nbconvert_exporter": "python",
   "pygments_lexer": "ipython3",
   "version": "3.11.8"
  }
 },
 "nbformat": 4,
 "nbformat_minor": 4
}
